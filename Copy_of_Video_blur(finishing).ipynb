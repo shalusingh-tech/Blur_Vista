{
  "cells": [
    {
      "cell_type": "markdown",
      "metadata": {
        "id": "FpQsldl9QSVz"
      },
      "source": [
        "**Aim:** This is the final code of video blur along with UI\n",
        "\n",
        "**Author:** Shalu Singh\n",
        "\n",
        "**Starting Date:** 12/9/23\n",
        "\n",
        "**Ending Date:** 14/1/24"
      ]
    },
    {
      "cell_type": "code",
      "execution_count": null,
      "metadata": {
        "colab": {
          "base_uri": "https://localhost:8080/"
        },
        "id": "azUAhXcGTZSb",
        "outputId": "9b3f2424-6541-4f82-b1c5-1bde0ea4ddb0"
      },
      "outputs": [],
      "source": [
        "# mount the google drive\n",
        "from google.colab import drive\n",
        "drive.mount('/content/drive')"
      ]
    },
    {
      "cell_type": "code",
      "execution_count": null,
      "metadata": {
        "id": "e2Rg-g0OA0xy"
      },
      "outputs": [],
      "source": [
        "# !pip install gradio --force-reinstall"
      ]
    },
    {
      "cell_type": "code",
      "execution_count": null,
      "metadata": {
        "colab": {
          "base_uri": "https://localhost:8080/"
        },
        "id": "CPLc5kappQ9f",
        "outputId": "b8a791c8-6948-414a-992f-28bc76998aaf"
      },
      "outputs": [],
      "source": [
        "!pip install gradio"
      ]
    },
    {
      "cell_type": "code",
      "execution_count": 1,
      "metadata": {
        "id": "hcgLMnTCQYVS"
      },
      "outputs": [],
      "source": [
        "\n",
        "# import libraries\n",
        "import tensorflow as tf\n",
        "import numpy as np\n",
        "from PIL import Image\n",
        "import cv2\n",
        "import matplotlib.pyplot as plt\n",
        "import os\n",
        "import tensorflow_hub as hub\n",
        "import pandas as pd\n",
        "import keras\n",
        "import gradio"
      ]
    },
    {
      "cell_type": "code",
      "execution_count": 2,
      "metadata": {
        "id": "Vg3ZxotgzybB"
      },
      "outputs": [],
      "source": [
        "out_video_path = 'blured_op_video.mp4'"
      ]
    },
    {
      "cell_type": "code",
      "execution_count": 3,
      "metadata": {
        "id": "jdG9JNlNRpHL"
      },
      "outputs": [],
      "source": [
        "# class label\n",
        "coco_classes = {\n",
        "0: 'unlabeled',\n",
        "1: 'person',\n",
        "2: 'bicycle',\n",
        "3: 'car',\n",
        "4: 'motorcycle',\n",
        "5: \"airplane\",\n",
        "6: \"bus\",\n",
        "7: \"train\",\n",
        "8: \"truck\",\n",
        "9: \"boat\",\n",
        "10:\" traffic light\",\n",
        "11: \"fire hydrant\",\n",
        "12: \"street sign\",\n",
        "13: \"stop |sign\",\n",
        "14: \"parking meter\",\n",
        "15: \"bench\",\n",
        "16: \"bird\",\n",
        "17: \"cat\",\n",
        "18: \"dog\",\n",
        "19: \"horse\",\n",
        "20: \"sheep\",\n",
        "21: \"cow\",\n",
        "22: \"elephant\",\n",
        "23:\" bear\",\n",
        "24: \"zebra\",\n",
        "25: \"giraffe\",\n",
        "26: \"hat\",\n",
        "27: \"backpack\",\n",
        "28: \"umbrella\",\n",
        "29: \"shoe\",\n",
        "30: \"eye glasses\",\n",
        "31: \"handbag\",\n",
        "32:\" tie\",\n",
        "33: \"suitcase\",\n",
        "34:\" frisbee\",\n",
        "35: \"skis\",\n",
        "36: \"snowboard\",\n",
        "37: \"sports ball\",\n",
        "38: \"kite\",\n",
        "39: \"baseball bat\",\n",
        "40: \"baseball glove\",\n",
        "41: \"skateboard\",\n",
        "42: \"surfboard\",\n",
        "43: \"tennis racket\",\n",
        "44: \"bottle\",\n",
        "45: \"plate\",\n",
        "46: \"wine glass\",\n",
        "47: \"cup\",\n",
        "48: \"fork\",\n",
        "49: \"knife\",\n",
        "50: \"spoon\",\n",
        "51: \"bowl\",\n",
        "52: \"banana\",\n",
        "53:\"apple\",\n",
        "54:\"sandwich\",\n",
        "55:\" orange\",\n",
        "56: \"broccoli\",\n",
        "57: \"carrot\",\n",
        "58: \"hot dog\",\n",
        "59:' pizza',\n",
        "60: \"donut\",\n",
        "61: 'cake',\n",
        "62: \"chair\",\n",
        "63: \"couch\",\n",
        "64: \"potted plant\",\n",
        "65: \"bed\",\n",
        "66: \"mirror\",\n",
        "67: \"dining table\",\n",
        "68: \"window\",\n",
        "69: \"desk\",\n",
        "70: \"toilet\",\n",
        "71: \"door\",\n",
        "72: \"tv\",\n",
        "73:\" laptop\",\n",
        "74: \"mouse\",\n",
        "75: \"remote\",\n",
        "76:\" keyboard\",\n",
        "77: \"cell phone\",\n",
        "78: \"microwave\",\n",
        "79: \"oven\",\n",
        "80: \"toaster\",\n",
        "81: \"sink\",\n",
        "82: \"refrigerator\",\n",
        "83: \"blender\",\n",
        "84: \"book\",\n",
        "85:\"clock\",\n",
        "86: \"vase\",\n",
        "87: \"scissors\",\n",
        "88: \"teddy bear\",\n",
        "89: \"hair drier\",\n",
        "90: \"toothbrush\",\n",
        "}"
      ]
    },
    {
      "cell_type": "code",
      "execution_count": 4,
      "metadata": {
        "id": "h6X61cwqd6j8"
      },
      "outputs": [],
      "source": [
        "coco_encode = {value:key for key,value in coco_classes.items()}\n",
        "coco_labels = list(coco_classes.values())"
      ]
    },
    {
      "cell_type": "code",
      "execution_count": 5,
      "metadata": {
        "id": "1fU6op_uQkUD"
      },
      "outputs": [],
      "source": [
        "# function: blur the image\n",
        "def blur_image(image = None,coordinates = None,blur_value = 3):\n",
        "  #print('*********** INSIDE [blur_image()] *********]')\n",
        "  img = image.copy() # copy the image to work on new image\n",
        "  if (coordinates is not None):\n",
        "    #print('Performing image blur operation...')\n",
        "    for coord in (coordinates):\n",
        "      ymin,xmin,ymax,xmax = coord\n",
        "      #print('Image shape:',img.shape)\n",
        "      # Extract region of intrest\n",
        "      Y_min,X_min,Y_max,X_max = int(ymin*img.shape[0]),int(xmin*img.shape[1]),int(ymax*img.shape[0]),int(xmax*img.shape[1])\n",
        "      #print('Y_min,Y_max',Y_min,Y_max)\n",
        "      #print('X_min,X_max',X_min,X_max)\n",
        "      roi = img[Y_min:Y_max,X_min:X_max]\n",
        "      #show_img(roi,'Original_roi')\n",
        "      # blur the extracted img using Gausian blur\n",
        "      try:\n",
        "        roi = cv2.GaussianBlur(roi,ksize = (blur_value,blur_value),sigmaX = 0)\n",
        "        #show_img(roi,title='blured roi')\n",
        "        # replace the original roi with blured_roi\n",
        "        img[Y_min:Y_max, X_min:X_max] = roi\n",
        "\n",
        "      except:\n",
        "        pass\n",
        "\n",
        "    return img\n"
      ]
    },
    {
      "cell_type": "code",
      "execution_count": 6,
      "metadata": {
        "id": "8rMmm_0JQzJA"
      },
      "outputs": [],
      "source": [
        "# function: filter detection boxs\n",
        "def filter_detection(detector_output,select_classes,thr = 0.6):\n",
        " # print('********* INSIDE [filter_detection()] **********')\n",
        "  detection_boxs = detector_output['detection_boxes']\n",
        "  detection_class = detector_output['detection_classes']\n",
        "  detection_scores = detector_output['detection_scores']\n",
        " # get the masking to select classes which user choosed\n",
        "  masked_classes = np.isin(detection_class,select_classes)\n",
        "\n",
        "  # select only selected classes\n",
        "  detection_class = detection_class[masked_classes]\n",
        "  detection_boxs = detection_boxs[masked_classes]\n",
        "  detection_scores = detection_scores[masked_classes]\n",
        "\n",
        "  # filter the detection boxses based on threshold\n",
        "  selected_scores = detection_scores[detection_scores >= thr]\n",
        "  selected_class = detection_class[detection_scores >= thr]\n",
        "  selected_boxs = detection_boxs[detection_scores >= thr].numpy()\n",
        "\n",
        "  return selected_boxs,selected_class,selected_scores"
      ]
    },
    {
      "cell_type": "code",
      "execution_count": 7,
      "metadata": {
        "id": "Dr0QOwEEV5Kz"
      },
      "outputs": [],
      "source": [
        "# get the input video\n",
        "# load video from local disk\n",
        "def load_input(ip_path):\n",
        "  #print('******* INSIDE [load_input] ********')\n",
        "  try:\n",
        "    cap = cv2.VideoCapture(ip_path)\n",
        "    print('Video loaded successfully!')\n",
        "    return cap\n",
        "  except:\n",
        "    print(\"Failed! to load video\")"
      ]
    },
    {
      "cell_type": "code",
      "execution_count": 8,
      "metadata": {
        "id": "jKDBy5aYV9Fs"
      },
      "outputs": [],
      "source": [
        "#function: get video property like frame_width,frame_heigh,frame_per_second(fps),codecc\n",
        "def out_video(cap):\n",
        "  #print('******** INSIDE [out_video] ***********')\n",
        "  frame_width = int(cap.get(3)) # width of the fames in the video\n",
        "  frame_height = int(cap.get(4)) # height of the frame in the video\n",
        "  fps = int(cap.get(5)) # frame per second\n",
        "  total_frames = int(cap.get(cv2.CAP_PROP_FRAME_COUNT))\n",
        "  video_duration =  int(cap.get(cv2.CAP_PROP_FRAME_COUNT))/ fps\n",
        "  codecc = cv2.VideoWriter_fourcc(*'mp4V') # codecc for output video ( h264  codecc)\n",
        "  # video property info\n",
        "  print('Frame Width:',frame_width)\n",
        "  print('Frame height:',frame_height)\n",
        "  print('Frame Per Second:',fps)\n",
        "  print('Total frames:',total_frames)\n",
        "  print('video_duration: {} minutes'.format(round(video_duration/60),2))\n",
        "  # VideoWriter object to save blured video\n",
        "  out = cv2.VideoWriter(out_video_path,codecc,fps,(frame_width,frame_height))\n",
        "  return out,fps,total_frames,video_duration"
      ]
    },
    {
      "cell_type": "code",
      "execution_count": 9,
      "metadata": {
        "id": "NF1vrrR5V_ds"
      },
      "outputs": [],
      "source": [
        "# function: to get time range to perfrom blur\n",
        "def time_range(start_time,end_time):\n",
        "  #print('*********** INSIDE [time_range()] ************')\n",
        "  start_time,end_time = start_time,end_time # change to second(s) format\n",
        "  return start_time,end_time"
      ]
    },
    {
      "cell_type": "code",
      "execution_count": 10,
      "metadata": {
        "id": "Ub6Id8VPWBZQ"
      },
      "outputs": [],
      "source": [
        "# function: to check if time range is valid or not\n",
        "def is_valid_time_range(start_time,end_time,video_duration):\n",
        "  #print('********** INSIDE [valid_time_range()] *************')\n",
        "  return (0 <= start_time < end_time <= video_duration)"
      ]
    },
    {
      "cell_type": "code",
      "execution_count": 11,
      "metadata": {
        "colab": {
          "base_uri": "https://localhost:8080/"
        },
        "id": "7AmzoQdElbi0",
        "outputId": "305a2aa7-043c-43c0-cc42-d2dfad224b0a"
      },
      "outputs": [],
      "source": [
        "# detector = hub.load(\"https://www.kaggle.com/models/tensorflow/efficientdet/frameworks/TensorFlow2/variations/d2/versions/1\")"
      ]
    },
    {
      "cell_type": "code",
      "execution_count": 12,
      "metadata": {
        "id": "UGF5jTFl-75n"
      },
      "outputs": [],
      "source": [
        "# save the object detection model\n",
        "# tf.saved_model.save(detector,\"/content/drive/MyDrive/Models/Object_detection_model\")"
      ]
    },
    {
      "cell_type": "code",
      "execution_count": 13,
      "metadata": {
        "colab": {
          "base_uri": "https://localhost:8080/"
        },
        "id": "gcW66uWylb8e",
        "outputId": "08401a3f-c81f-416e-a471-3c9786e68293"
      },
      "outputs": [
        {
          "name": "stderr",
          "output_type": "stream",
          "text": [
            "WARNING:absl:Importing a function (__inference_EfficientDet-D2_layer_call_and_return_conditional_losses_57726) with ops with unsaved custom gradients. Will likely fail if a gradient is requested.\n",
            "WARNING:absl:Importing a function (__inference_bifpn_layer_call_and_return_conditional_losses_96751) with ops with unsaved custom gradients. Will likely fail if a gradient is requested.\n",
            "WARNING:absl:Importing a function (__inference_bifpn_layer_call_and_return_conditional_losses_60740) with ops with unsaved custom gradients. Will likely fail if a gradient is requested.\n",
            "WARNING:absl:Importing a function (__inference_EfficientDet-D2_layer_call_and_return_conditional_losses_9338) with ops with unsaved custom gradients. Will likely fail if a gradient is requested.\n",
            "WARNING:absl:Importing a function (__inference_EfficientDet-D2_layer_call_and_return_conditional_losses_93253) with ops with unsaved custom gradients. Will likely fail if a gradient is requested.\n",
            "WARNING:absl:Importing a function (__inference___call___42679) with ops with unsaved custom gradients. Will likely fail if a gradient is requested.\n",
            "WARNING:absl:Importing a function (__inference_EfficientDet-D2_layer_call_and_return_conditional_losses_71189) with ops with unsaved custom gradients. Will likely fail if a gradient is requested.\n"
          ]
        }
      ],
      "source": [
        "object_detection_model = tf.saved_model.load(\"Object_detection_model.h5/\")"
      ]
    },
    {
      "cell_type": "code",
      "execution_count": 14,
      "metadata": {
        "id": "T_RPrDdTgIJt"
      },
      "outputs": [],
      "source": [
        "from concurrent.futures import ThreadPoolExecutor\n",
        "\n",
        "def blur_video(input_video_path, u_classes, start_time, end_time):\n",
        "    print('STARTING OF PROCESSING...')\n",
        "    print(\"u_classes:\",u_classes,type(u_classes))\n",
        "    label_encode = np.array([coco_encode[i] for i in u_classes], dtype='float16')\n",
        "    print('label_encode:',label_encode,type(label_encode))\n",
        "    cap = load_input(ip_path=input_video_path)\n",
        "    out, fps, total_frames, video_duration = out_video(cap)\n",
        "    start_time, end_time = time_range(start_time, end_time)\n",
        "\n",
        "    if is_valid_time_range(start_time, end_time, video_duration):\n",
        "        start_frame = int(start_time * fps)\n",
        "        end_frame = int(end_time * fps)\n",
        "        print('Start Frame:', start_frame)\n",
        "        print('End Frame:', end_frame)\n",
        "\n",
        "        with ThreadPoolExecutor(max_workers=4) as executor:  # Adjust max_workers as needed\n",
        "            futures = []\n",
        "            for i in range(total_frames):\n",
        "                ret, frame = cap.read()\n",
        "                if ret:\n",
        "                    frame = tf.expand_dims(frame, axis=0)\n",
        "                else:\n",
        "                    break\n",
        "\n",
        "                if start_frame <= i <= end_frame:\n",
        "                    print('Blured_frame:',i)\n",
        "                    future = executor.submit(blur_process, frame, label_encode)\n",
        "                    futures.append(future)\n",
        "                else:\n",
        "                    out.write(frame[0].numpy())\n",
        "\n",
        "            for future in futures:\n",
        "                blured_img = future.result()\n",
        "                out.write(blured_img)\n",
        "\n",
        "        cap.release()\n",
        "        out.release()\n",
        "\n",
        "    return out_video_path"
      ]
    },
    {
      "cell_type": "code",
      "execution_count": 15,
      "metadata": {
        "id": "qgkB0dmjWJlG"
      },
      "outputs": [],
      "source": [
        "def blur_process(frame,l_encoder,blur_value):\n",
        "    print('label_encode',l_encoder)\n",
        "    frame = np.expand_dims(frame,axis = 0)\n",
        "    detector_output = object_detection_model(frame)\n",
        "    boxes,classes,scores = filter_detection(detector_output,l_encoder)\n",
        "    blured_img = blur_image(frame[0],boxes,blur_value)\n",
        "    return blured_img"
      ]
    },
    {
      "cell_type": "code",
      "execution_count": 16,
      "metadata": {
        "id": "8qPwWUsQWQ8T"
      },
      "outputs": [
        {
          "name": "stderr",
          "output_type": "stream",
          "text": [
            "WARNING:py.warnings:c:\\Users\\sinte\\anaconda3\\Lib\\site-packages\\paramiko\\transport.py:219: CryptographyDeprecationWarning: Blowfish has been deprecated\n",
            "  \"class\": algorithms.Blowfish,\n",
            "\n"
          ]
        }
      ],
      "source": [
        "from moviepy.editor import VideoFileClip, concatenate_videoclips\n",
        "\n",
        "def process_and_concat_video(input_video_path,u_classes,blur_value,start_time, end_time):\n",
        "    label_encode = np.array([coco_encode[i] for i in u_classes],dtype = 'float16')\n",
        "    # Load the full video clip\n",
        "    full_video_clip = VideoFileClip(input_video_path)\n",
        "\n",
        "    # Process the specified part of the video\n",
        "    processed_clip = full_video_clip.subclip(start_time, end_time).set_duration(end_time - start_time)\n",
        "    processed_clip = processed_clip.fl_image(lambda frame: blur_process(frame,label_encode,blur_value))\n",
        "    print('final clip fps:',full_video_clip.fps)\n",
        "    print('processed_clip fps:',processed_clip.fps)\n",
        "\n",
        "    # Concatenate the processed and unprocessed parts\n",
        "    final_clip = concatenate_videoclips([full_video_clip.subclip(0, start_time),\n",
        "                                         processed_clip,\n",
        "                                         full_video_clip.subclip(end_time, None)])\n",
        "\n",
        "    final_clip.set_fps = 25  # Assuming desired FPS is 25\n",
        "\n",
        "\n",
        "    # Write the final video to an output file with the specified fps\n",
        "    out_video_path = \"output_video.mp4\"\n",
        "    final_clip.write_videofile(out_video_path, codec=\"h264\", audio_codec=\"aac\",fps = 25)\n",
        "\n",
        "    return out_video_path\n"
      ]
    },
    {
      "cell_type": "code",
      "execution_count": 17,
      "metadata": {
        "colab": {
          "base_uri": "https://localhost:8080/",
          "height": 775
        },
        "id": "-dcqBUl_WUF1",
        "outputId": "5de2306e-0308-4b83-c232-ca463bd863c7"
      },
      "outputs": [
        {
          "name": "stdout",
          "output_type": "stream",
          "text": [
            "Running on local URL:  http://127.0.0.1:7860\n",
            "\n",
            "To create a public link, set `share=True` in `launch()`.\n"
          ]
        },
        {
          "data": {
            "text/html": [
              "<div><iframe src=\"http://127.0.0.1:7860/\" width=\"100%\" height=\"500\" allow=\"autoplay; camera; microphone; clipboard-read; clipboard-write;\" frameborder=\"0\" allowfullscreen></iframe></div>"
            ],
            "text/plain": [
              "<IPython.core.display.HTML object>"
            ]
          },
          "metadata": {},
          "output_type": "display_data"
        },
        {
          "name": "stdout",
          "output_type": "stream",
          "text": [
            "label_encode [3.]\n",
            "final clip fps: 25.0\n",
            "processed_clip fps: 25.0\n",
            "Moviepy - Building video output_video.mp4.\n",
            "MoviePy - Writing audio in output_videoTEMP_MPY_wvf_snd.mp4\n"
          ]
        },
        {
          "name": "stderr",
          "output_type": "stream",
          "text": [
            "                                                                     \r"
          ]
        },
        {
          "name": "stdout",
          "output_type": "stream",
          "text": [
            "MoviePy - Done.\n",
            "Moviepy - Writing video output_video.mp4\n",
            "\n"
          ]
        },
        {
          "name": "stderr",
          "output_type": "stream",
          "text": [
            "t:   4%|▍         | 151/3575 [00:14<05:46,  9.89it/s, now=None]"
          ]
        },
        {
          "name": "stdout",
          "output_type": "stream",
          "text": [
            "label_encode [3.]\n",
            "label_encode [3.]\n"
          ]
        },
        {
          "name": "stderr",
          "output_type": "stream",
          "text": [
            "t:   4%|▍         | 153/3575 [00:23<1:06:34,  1.17s/it, now=None]"
          ]
        },
        {
          "name": "stdout",
          "output_type": "stream",
          "text": [
            "label_encode [3.]\n"
          ]
        },
        {
          "name": "stderr",
          "output_type": "stream",
          "text": [
            "t:   4%|▍         | 154/3575 [00:27<1:32:10,  1.62s/it, now=None]"
          ]
        },
        {
          "name": "stdout",
          "output_type": "stream",
          "text": [
            "label_encode [3.]\n"
          ]
        },
        {
          "name": "stderr",
          "output_type": "stream",
          "text": [
            "t:   4%|▍         | 155/3575 [00:31<1:59:13,  2.09s/it, now=None]"
          ]
        },
        {
          "name": "stdout",
          "output_type": "stream",
          "text": [
            "label_encode [3.]\n"
          ]
        },
        {
          "name": "stderr",
          "output_type": "stream",
          "text": [
            "t:   4%|▍         | 156/3575 [00:36<2:25:48,  2.56s/it, now=None]"
          ]
        },
        {
          "name": "stdout",
          "output_type": "stream",
          "text": [
            "label_encode [3.]\n"
          ]
        },
        {
          "name": "stderr",
          "output_type": "stream",
          "text": [
            "t:   4%|▍         | 157/3575 [00:40<2:50:08,  2.99s/it, now=None]"
          ]
        },
        {
          "name": "stdout",
          "output_type": "stream",
          "text": [
            "label_encode [3.]\n"
          ]
        },
        {
          "name": "stderr",
          "output_type": "stream",
          "text": [
            "t:   4%|▍         | 158/3575 [00:44<3:05:35,  3.26s/it, now=None]"
          ]
        },
        {
          "name": "stdout",
          "output_type": "stream",
          "text": [
            "label_encode [3.]\n"
          ]
        },
        {
          "name": "stderr",
          "output_type": "stream",
          "text": [
            "t:   4%|▍         | 159/3575 [00:49<3:20:14,  3.52s/it, now=None]"
          ]
        },
        {
          "name": "stdout",
          "output_type": "stream",
          "text": [
            "label_encode [3.]\n"
          ]
        },
        {
          "name": "stderr",
          "output_type": "stream",
          "text": [
            "t:   4%|▍         | 160/3575 [00:53<3:29:19,  3.68s/it, now=None]"
          ]
        },
        {
          "name": "stdout",
          "output_type": "stream",
          "text": [
            "label_encode [3.]\n"
          ]
        },
        {
          "name": "stderr",
          "output_type": "stream",
          "text": [
            "t:   5%|▍         | 161/3575 [00:57<3:34:37,  3.77s/it, now=None]"
          ]
        },
        {
          "name": "stdout",
          "output_type": "stream",
          "text": [
            "label_encode [3.]\n"
          ]
        },
        {
          "name": "stderr",
          "output_type": "stream",
          "text": [
            "t:   5%|▍         | 162/3575 [01:01<3:39:08,  3.85s/it, now=None]"
          ]
        },
        {
          "name": "stdout",
          "output_type": "stream",
          "text": [
            "label_encode [3.]\n"
          ]
        },
        {
          "name": "stderr",
          "output_type": "stream",
          "text": [
            "t:   5%|▍         | 163/3575 [01:05<3:39:41,  3.86s/it, now=None]"
          ]
        },
        {
          "name": "stdout",
          "output_type": "stream",
          "text": [
            "label_encode [3.]\n"
          ]
        },
        {
          "name": "stderr",
          "output_type": "stream",
          "text": [
            "t:   5%|▍         | 164/3575 [01:09<3:48:07,  4.01s/it, now=None]"
          ]
        },
        {
          "name": "stdout",
          "output_type": "stream",
          "text": [
            "label_encode [3.]\n"
          ]
        },
        {
          "name": "stderr",
          "output_type": "stream",
          "text": [
            "t:   5%|▍         | 165/3575 [01:13<3:51:53,  4.08s/it, now=None]"
          ]
        },
        {
          "name": "stdout",
          "output_type": "stream",
          "text": [
            "label_encode [3.]\n"
          ]
        },
        {
          "name": "stderr",
          "output_type": "stream",
          "text": [
            "t:   5%|▍         | 166/3575 [01:17<3:47:21,  4.00s/it, now=None]"
          ]
        },
        {
          "name": "stdout",
          "output_type": "stream",
          "text": [
            "label_encode [3.]\n"
          ]
        },
        {
          "name": "stderr",
          "output_type": "stream",
          "text": [
            "t:   5%|▍         | 167/3575 [01:21<3:41:08,  3.89s/it, now=None]"
          ]
        },
        {
          "name": "stdout",
          "output_type": "stream",
          "text": [
            "label_encode [3.]\n"
          ]
        },
        {
          "name": "stderr",
          "output_type": "stream",
          "text": [
            "t:   5%|▍         | 168/3575 [01:24<3:36:25,  3.81s/it, now=None]"
          ]
        },
        {
          "name": "stdout",
          "output_type": "stream",
          "text": [
            "label_encode [3.]\n"
          ]
        },
        {
          "name": "stderr",
          "output_type": "stream",
          "text": [
            "t:   5%|▍         | 169/3575 [01:28<3:32:52,  3.75s/it, now=None]"
          ]
        },
        {
          "name": "stdout",
          "output_type": "stream",
          "text": [
            "label_encode [3.]\n"
          ]
        },
        {
          "name": "stderr",
          "output_type": "stream",
          "text": [
            "t:   5%|▍         | 170/3575 [01:32<3:30:53,  3.72s/it, now=None]"
          ]
        },
        {
          "name": "stdout",
          "output_type": "stream",
          "text": [
            "label_encode [3.]\n"
          ]
        },
        {
          "name": "stderr",
          "output_type": "stream",
          "text": [
            "t:   5%|▍         | 171/3575 [01:35<3:32:31,  3.75s/it, now=None]"
          ]
        },
        {
          "name": "stdout",
          "output_type": "stream",
          "text": [
            "label_encode [3.]\n"
          ]
        },
        {
          "name": "stderr",
          "output_type": "stream",
          "text": [
            "t:   5%|▍         | 172/3575 [01:39<3:33:15,  3.76s/it, now=None]"
          ]
        },
        {
          "name": "stdout",
          "output_type": "stream",
          "text": [
            "label_encode [3.]\n"
          ]
        },
        {
          "name": "stderr",
          "output_type": "stream",
          "text": [
            "t:   5%|▍         | 173/3575 [01:43<3:29:38,  3.70s/it, now=None]"
          ]
        },
        {
          "name": "stdout",
          "output_type": "stream",
          "text": [
            "label_encode [3.]\n"
          ]
        },
        {
          "name": "stderr",
          "output_type": "stream",
          "text": [
            "t:   5%|▍         | 174/3575 [01:46<3:26:46,  3.65s/it, now=None]"
          ]
        },
        {
          "name": "stdout",
          "output_type": "stream",
          "text": [
            "label_encode [3.]\n"
          ]
        },
        {
          "name": "stderr",
          "output_type": "stream",
          "text": [
            "t:   5%|▍         | 175/3575 [01:50<3:25:02,  3.62s/it, now=None]"
          ]
        },
        {
          "name": "stdout",
          "output_type": "stream",
          "text": [
            "label_encode [3.]\n"
          ]
        },
        {
          "name": "stderr",
          "output_type": "stream",
          "text": [
            "t:   5%|▍         | 176/3575 [01:54<3:26:47,  3.65s/it, now=None]"
          ]
        },
        {
          "name": "stdout",
          "output_type": "stream",
          "text": [
            "label_encode [3.]\n"
          ]
        },
        {
          "name": "stderr",
          "output_type": "stream",
          "text": [
            "t:   5%|▍         | 177/3575 [01:57<3:27:16,  3.66s/it, now=None]"
          ]
        },
        {
          "name": "stdout",
          "output_type": "stream",
          "text": [
            "label_encode [3.]\n"
          ]
        },
        {
          "name": "stderr",
          "output_type": "stream",
          "text": [
            "t:   5%|▍         | 178/3575 [02:01<3:25:53,  3.64s/it, now=None]"
          ]
        },
        {
          "name": "stdout",
          "output_type": "stream",
          "text": [
            "label_encode [3.]\n"
          ]
        },
        {
          "name": "stderr",
          "output_type": "stream",
          "text": [
            "t:   5%|▌         | 179/3575 [02:04<3:25:37,  3.63s/it, now=None]"
          ]
        },
        {
          "name": "stdout",
          "output_type": "stream",
          "text": [
            "label_encode [3.]\n"
          ]
        },
        {
          "name": "stderr",
          "output_type": "stream",
          "text": [
            "t:   5%|▌         | 180/3575 [02:08<3:24:28,  3.61s/it, now=None]"
          ]
        },
        {
          "name": "stdout",
          "output_type": "stream",
          "text": [
            "label_encode [3.]\n"
          ]
        },
        {
          "name": "stderr",
          "output_type": "stream",
          "text": [
            "t:   5%|▌         | 181/3575 [02:12<3:35:38,  3.81s/it, now=None]"
          ]
        },
        {
          "name": "stdout",
          "output_type": "stream",
          "text": [
            "label_encode [3.]\n"
          ]
        },
        {
          "name": "stderr",
          "output_type": "stream",
          "text": [
            "t:   5%|▌         | 182/3575 [02:16<3:35:16,  3.81s/it, now=None]"
          ]
        },
        {
          "name": "stdout",
          "output_type": "stream",
          "text": [
            "label_encode [3.]\n"
          ]
        },
        {
          "name": "stderr",
          "output_type": "stream",
          "text": [
            "t:   5%|▌         | 183/3575 [02:20<3:31:27,  3.74s/it, now=None]"
          ]
        },
        {
          "name": "stdout",
          "output_type": "stream",
          "text": [
            "label_encode [3.]\n"
          ]
        },
        {
          "name": "stderr",
          "output_type": "stream",
          "text": [
            "t:   5%|▌         | 184/3575 [02:23<3:29:42,  3.71s/it, now=None]"
          ]
        },
        {
          "name": "stdout",
          "output_type": "stream",
          "text": [
            "label_encode [3.]\n"
          ]
        },
        {
          "name": "stderr",
          "output_type": "stream",
          "text": [
            "t:   5%|▌         | 185/3575 [02:27<3:28:27,  3.69s/it, now=None]"
          ]
        },
        {
          "name": "stdout",
          "output_type": "stream",
          "text": [
            "label_encode [3.]\n"
          ]
        },
        {
          "name": "stderr",
          "output_type": "stream",
          "text": [
            "t:   5%|▌         | 186/3575 [02:31<3:28:41,  3.69s/it, now=None]"
          ]
        },
        {
          "name": "stdout",
          "output_type": "stream",
          "text": [
            "label_encode [3.]\n"
          ]
        },
        {
          "name": "stderr",
          "output_type": "stream",
          "text": [
            "t:   5%|▌         | 187/3575 [02:35<3:31:52,  3.75s/it, now=None]"
          ]
        },
        {
          "name": "stdout",
          "output_type": "stream",
          "text": [
            "label_encode [3.]\n"
          ]
        },
        {
          "name": "stderr",
          "output_type": "stream",
          "text": [
            "t:   5%|▌         | 188/3575 [02:38<3:28:39,  3.70s/it, now=None]"
          ]
        },
        {
          "name": "stdout",
          "output_type": "stream",
          "text": [
            "label_encode [3.]\n"
          ]
        },
        {
          "name": "stderr",
          "output_type": "stream",
          "text": [
            "t:   5%|▌         | 189/3575 [02:42<3:27:08,  3.67s/it, now=None]"
          ]
        },
        {
          "name": "stdout",
          "output_type": "stream",
          "text": [
            "label_encode [3.]\n"
          ]
        },
        {
          "name": "stderr",
          "output_type": "stream",
          "text": [
            "t:   5%|▌         | 190/3575 [02:45<3:24:24,  3.62s/it, now=None]"
          ]
        },
        {
          "name": "stdout",
          "output_type": "stream",
          "text": [
            "label_encode [3.]\n"
          ]
        },
        {
          "name": "stderr",
          "output_type": "stream",
          "text": [
            "t:   5%|▌         | 191/3575 [02:49<3:23:26,  3.61s/it, now=None]"
          ]
        },
        {
          "name": "stdout",
          "output_type": "stream",
          "text": [
            "label_encode [3.]\n"
          ]
        },
        {
          "name": "stderr",
          "output_type": "stream",
          "text": [
            "t:   5%|▌         | 192/3575 [02:53<3:26:32,  3.66s/it, now=None]"
          ]
        },
        {
          "name": "stdout",
          "output_type": "stream",
          "text": [
            "label_encode [3.]\n"
          ]
        },
        {
          "name": "stderr",
          "output_type": "stream",
          "text": [
            "t:   5%|▌         | 193/3575 [02:56<3:24:43,  3.63s/it, now=None]"
          ]
        },
        {
          "name": "stdout",
          "output_type": "stream",
          "text": [
            "label_encode [3.]\n"
          ]
        },
        {
          "name": "stderr",
          "output_type": "stream",
          "text": [
            "t:   5%|▌         | 194/3575 [03:00<3:23:15,  3.61s/it, now=None]"
          ]
        },
        {
          "name": "stdout",
          "output_type": "stream",
          "text": [
            "label_encode [3.]\n"
          ]
        },
        {
          "name": "stderr",
          "output_type": "stream",
          "text": [
            "t:   5%|▌         | 195/3575 [03:03<3:22:33,  3.60s/it, now=None]"
          ]
        },
        {
          "name": "stdout",
          "output_type": "stream",
          "text": [
            "label_encode [3.]\n"
          ]
        },
        {
          "name": "stderr",
          "output_type": "stream",
          "text": [
            "t:   5%|▌         | 196/3575 [03:07<3:22:24,  3.59s/it, now=None]"
          ]
        },
        {
          "name": "stdout",
          "output_type": "stream",
          "text": [
            "label_encode [3.]\n"
          ]
        },
        {
          "name": "stderr",
          "output_type": "stream",
          "text": [
            "t:   6%|▌         | 197/3575 [03:11<3:23:41,  3.62s/it, now=None]"
          ]
        },
        {
          "name": "stdout",
          "output_type": "stream",
          "text": [
            "label_encode [3.]\n"
          ]
        },
        {
          "name": "stderr",
          "output_type": "stream",
          "text": [
            "t:   6%|▌         | 198/3575 [03:14<3:25:00,  3.64s/it, now=None]"
          ]
        },
        {
          "name": "stdout",
          "output_type": "stream",
          "text": [
            "label_encode [3.]\n"
          ]
        },
        {
          "name": "stderr",
          "output_type": "stream",
          "text": [
            "t:   6%|▌         | 199/3575 [03:18<3:24:51,  3.64s/it, now=None]"
          ]
        },
        {
          "name": "stdout",
          "output_type": "stream",
          "text": [
            "label_encode [3.]\n"
          ]
        },
        {
          "name": "stderr",
          "output_type": "stream",
          "text": [
            "t:   6%|▌         | 200/3575 [03:22<3:25:28,  3.65s/it, now=None]"
          ]
        },
        {
          "name": "stdout",
          "output_type": "stream",
          "text": [
            "label_encode [3.]\n"
          ]
        },
        {
          "name": "stderr",
          "output_type": "stream",
          "text": [
            "t:   6%|▌         | 201/3575 [03:25<3:25:07,  3.65s/it, now=None]"
          ]
        },
        {
          "name": "stdout",
          "output_type": "stream",
          "text": [
            "label_encode [3.]\n"
          ]
        },
        {
          "name": "stderr",
          "output_type": "stream",
          "text": [
            "t:   6%|▌         | 202/3575 [03:29<3:23:50,  3.63s/it, now=None]"
          ]
        },
        {
          "name": "stdout",
          "output_type": "stream",
          "text": [
            "label_encode [3.]\n"
          ]
        },
        {
          "name": "stderr",
          "output_type": "stream",
          "text": [
            "t:   6%|▌         | 203/3575 [03:33<3:25:55,  3.66s/it, now=None]"
          ]
        },
        {
          "name": "stdout",
          "output_type": "stream",
          "text": [
            "label_encode [3.]\n"
          ]
        },
        {
          "name": "stderr",
          "output_type": "stream",
          "text": [
            "t:   6%|▌         | 204/3575 [03:36<3:24:59,  3.65s/it, now=None]"
          ]
        },
        {
          "name": "stdout",
          "output_type": "stream",
          "text": [
            "label_encode [3.]\n"
          ]
        },
        {
          "name": "stderr",
          "output_type": "stream",
          "text": [
            "t:   6%|▌         | 205/3575 [03:40<3:23:26,  3.62s/it, now=None]"
          ]
        },
        {
          "name": "stdout",
          "output_type": "stream",
          "text": [
            "label_encode [3.]\n"
          ]
        },
        {
          "name": "stderr",
          "output_type": "stream",
          "text": [
            "t:   6%|▌         | 206/3575 [03:43<3:24:15,  3.64s/it, now=None]"
          ]
        },
        {
          "name": "stdout",
          "output_type": "stream",
          "text": [
            "label_encode [3.]\n"
          ]
        },
        {
          "name": "stderr",
          "output_type": "stream",
          "text": [
            "t:   6%|▌         | 207/3575 [03:47<3:26:40,  3.68s/it, now=None]"
          ]
        },
        {
          "name": "stdout",
          "output_type": "stream",
          "text": [
            "label_encode [3.]\n"
          ]
        },
        {
          "name": "stderr",
          "output_type": "stream",
          "text": [
            "t:   6%|▌         | 208/3575 [03:51<3:31:46,  3.77s/it, now=None]"
          ]
        },
        {
          "name": "stdout",
          "output_type": "stream",
          "text": [
            "label_encode [3.]\n"
          ]
        },
        {
          "name": "stderr",
          "output_type": "stream",
          "text": [
            "t:   6%|▌         | 209/3575 [03:55<3:34:35,  3.83s/it, now=None]"
          ]
        },
        {
          "name": "stdout",
          "output_type": "stream",
          "text": [
            "label_encode [3.]\n"
          ]
        },
        {
          "name": "stderr",
          "output_type": "stream",
          "text": [
            "t:   6%|▌         | 210/3575 [03:59<3:34:19,  3.82s/it, now=None]"
          ]
        },
        {
          "name": "stdout",
          "output_type": "stream",
          "text": [
            "label_encode [3.]\n"
          ]
        },
        {
          "name": "stderr",
          "output_type": "stream",
          "text": [
            "t:   6%|▌         | 211/3575 [04:03<3:35:16,  3.84s/it, now=None]"
          ]
        },
        {
          "name": "stdout",
          "output_type": "stream",
          "text": [
            "label_encode [3.]\n"
          ]
        },
        {
          "name": "stderr",
          "output_type": "stream",
          "text": [
            "t:   6%|▌         | 212/3575 [04:07<3:35:21,  3.84s/it, now=None]"
          ]
        },
        {
          "name": "stdout",
          "output_type": "stream",
          "text": [
            "label_encode [3.]\n"
          ]
        },
        {
          "name": "stderr",
          "output_type": "stream",
          "text": [
            "t:   6%|▌         | 213/3575 [04:11<3:36:29,  3.86s/it, now=None]"
          ]
        },
        {
          "name": "stdout",
          "output_type": "stream",
          "text": [
            "label_encode [3.]\n"
          ]
        },
        {
          "name": "stderr",
          "output_type": "stream",
          "text": [
            "t:   6%|▌         | 214/3575 [04:14<3:35:30,  3.85s/it, now=None]"
          ]
        },
        {
          "name": "stdout",
          "output_type": "stream",
          "text": [
            "label_encode [3.]\n"
          ]
        },
        {
          "name": "stderr",
          "output_type": "stream",
          "text": [
            "t:   6%|▌         | 215/3575 [04:18<3:35:26,  3.85s/it, now=None]"
          ]
        },
        {
          "name": "stdout",
          "output_type": "stream",
          "text": [
            "label_encode [3.]\n"
          ]
        },
        {
          "name": "stderr",
          "output_type": "stream",
          "text": [
            "t:   6%|▌         | 216/3575 [04:22<3:36:03,  3.86s/it, now=None]"
          ]
        },
        {
          "name": "stdout",
          "output_type": "stream",
          "text": [
            "label_encode [3.]\n"
          ]
        },
        {
          "name": "stderr",
          "output_type": "stream",
          "text": [
            "t:   6%|▌         | 217/3575 [04:26<3:28:26,  3.72s/it, now=None]"
          ]
        },
        {
          "name": "stdout",
          "output_type": "stream",
          "text": [
            "label_encode [3.]\n"
          ]
        },
        {
          "name": "stderr",
          "output_type": "stream",
          "text": [
            "t:   6%|▌         | 218/3575 [04:29<3:30:34,  3.76s/it, now=None]"
          ]
        },
        {
          "name": "stdout",
          "output_type": "stream",
          "text": [
            "label_encode [3.]\n"
          ]
        },
        {
          "name": "stderr",
          "output_type": "stream",
          "text": [
            "t:   6%|▌         | 219/3575 [04:33<3:30:41,  3.77s/it, now=None]"
          ]
        },
        {
          "name": "stdout",
          "output_type": "stream",
          "text": [
            "label_encode [3.]\n"
          ]
        },
        {
          "name": "stderr",
          "output_type": "stream",
          "text": [
            "t:   6%|▌         | 220/3575 [04:37<3:33:11,  3.81s/it, now=None]"
          ]
        },
        {
          "name": "stdout",
          "output_type": "stream",
          "text": [
            "label_encode [3.]\n"
          ]
        },
        {
          "name": "stderr",
          "output_type": "stream",
          "text": [
            "t:   6%|▌         | 221/3575 [04:41<3:31:15,  3.78s/it, now=None]"
          ]
        },
        {
          "name": "stdout",
          "output_type": "stream",
          "text": [
            "label_encode [3.]\n"
          ]
        },
        {
          "name": "stderr",
          "output_type": "stream",
          "text": [
            "t:   6%|▌         | 222/3575 [04:45<3:32:38,  3.80s/it, now=None]"
          ]
        },
        {
          "name": "stdout",
          "output_type": "stream",
          "text": [
            "label_encode [3.]\n"
          ]
        },
        {
          "name": "stderr",
          "output_type": "stream",
          "text": [
            "t:   6%|▌         | 223/3575 [04:49<3:34:38,  3.84s/it, now=None]"
          ]
        },
        {
          "name": "stdout",
          "output_type": "stream",
          "text": [
            "label_encode [3.]\n"
          ]
        },
        {
          "name": "stderr",
          "output_type": "stream",
          "text": [
            "t:   6%|▋         | 224/3575 [04:53<3:37:54,  3.90s/it, now=None]"
          ]
        },
        {
          "name": "stdout",
          "output_type": "stream",
          "text": [
            "label_encode [3.]\n"
          ]
        },
        {
          "name": "stderr",
          "output_type": "stream",
          "text": [
            "t:   6%|▋         | 225/3575 [04:56<3:36:24,  3.88s/it, now=None]"
          ]
        },
        {
          "name": "stdout",
          "output_type": "stream",
          "text": [
            "label_encode [3.]\n"
          ]
        },
        {
          "name": "stderr",
          "output_type": "stream",
          "text": [
            "t:   6%|▋         | 226/3575 [05:00<3:38:38,  3.92s/it, now=None]"
          ]
        },
        {
          "name": "stdout",
          "output_type": "stream",
          "text": [
            "label_encode [3.]\n"
          ]
        },
        {
          "name": "stderr",
          "output_type": "stream",
          "text": [
            "t:   6%|▋         | 227/3575 [05:04<3:34:31,  3.84s/it, now=None]"
          ]
        },
        {
          "name": "stdout",
          "output_type": "stream",
          "text": [
            "label_encode [3.]\n"
          ]
        },
        {
          "name": "stderr",
          "output_type": "stream",
          "text": [
            "t:   6%|▋         | 228/3575 [05:08<3:35:17,  3.86s/it, now=None]"
          ]
        },
        {
          "name": "stdout",
          "output_type": "stream",
          "text": [
            "label_encode [3.]\n"
          ]
        },
        {
          "name": "stderr",
          "output_type": "stream",
          "text": [
            "t:   6%|▋         | 229/3575 [05:12<3:34:41,  3.85s/it, now=None]"
          ]
        },
        {
          "name": "stdout",
          "output_type": "stream",
          "text": [
            "label_encode [3.]\n"
          ]
        },
        {
          "name": "stderr",
          "output_type": "stream",
          "text": [
            "t:   6%|▋         | 230/3575 [05:16<3:35:36,  3.87s/it, now=None]"
          ]
        },
        {
          "name": "stdout",
          "output_type": "stream",
          "text": [
            "label_encode [3.]\n"
          ]
        },
        {
          "name": "stderr",
          "output_type": "stream",
          "text": [
            "t:   6%|▋         | 231/3575 [05:20<3:34:02,  3.84s/it, now=None]"
          ]
        },
        {
          "name": "stdout",
          "output_type": "stream",
          "text": [
            "label_encode [3.]\n"
          ]
        },
        {
          "name": "stderr",
          "output_type": "stream",
          "text": [
            "t:   6%|▋         | 232/3575 [05:23<3:29:16,  3.76s/it, now=None]"
          ]
        },
        {
          "name": "stdout",
          "output_type": "stream",
          "text": [
            "label_encode [3.]\n"
          ]
        },
        {
          "name": "stderr",
          "output_type": "stream",
          "text": [
            "t:   7%|▋         | 233/3575 [05:27<3:31:17,  3.79s/it, now=None]"
          ]
        },
        {
          "name": "stdout",
          "output_type": "stream",
          "text": [
            "label_encode [3.]\n"
          ]
        },
        {
          "name": "stderr",
          "output_type": "stream",
          "text": [
            "t:   7%|▋         | 234/3575 [05:33<4:01:52,  4.34s/it, now=None]"
          ]
        },
        {
          "name": "stdout",
          "output_type": "stream",
          "text": [
            "label_encode [3.]\n"
          ]
        },
        {
          "name": "stderr",
          "output_type": "stream",
          "text": [
            "t:   7%|▋         | 235/3575 [05:37<4:05:02,  4.40s/it, now=None]"
          ]
        },
        {
          "name": "stdout",
          "output_type": "stream",
          "text": [
            "label_encode [3.]\n"
          ]
        },
        {
          "name": "stderr",
          "output_type": "stream",
          "text": [
            "t:   7%|▋         | 236/3575 [05:41<4:00:28,  4.32s/it, now=None]"
          ]
        },
        {
          "name": "stdout",
          "output_type": "stream",
          "text": [
            "label_encode [3.]\n"
          ]
        },
        {
          "name": "stderr",
          "output_type": "stream",
          "text": [
            "t:   7%|▋         | 237/3575 [05:45<3:53:01,  4.19s/it, now=None]"
          ]
        },
        {
          "name": "stdout",
          "output_type": "stream",
          "text": [
            "label_encode [3.]\n"
          ]
        },
        {
          "name": "stderr",
          "output_type": "stream",
          "text": [
            "t:   7%|▋         | 238/3575 [05:49<3:50:02,  4.14s/it, now=None]"
          ]
        },
        {
          "name": "stdout",
          "output_type": "stream",
          "text": [
            "label_encode [3.]\n"
          ]
        },
        {
          "name": "stderr",
          "output_type": "stream",
          "text": [
            "t:   7%|▋         | 239/3575 [05:53<3:51:45,  4.17s/it, now=None]"
          ]
        },
        {
          "name": "stdout",
          "output_type": "stream",
          "text": [
            "label_encode [3.]\n"
          ]
        },
        {
          "name": "stderr",
          "output_type": "stream",
          "text": [
            "t:   7%|▋         | 240/3575 [05:58<3:51:25,  4.16s/it, now=None]"
          ]
        },
        {
          "name": "stdout",
          "output_type": "stream",
          "text": [
            "label_encode [3.]\n"
          ]
        },
        {
          "name": "stderr",
          "output_type": "stream",
          "text": [
            "t:   7%|▋         | 241/3575 [06:01<3:46:12,  4.07s/it, now=None]"
          ]
        },
        {
          "name": "stdout",
          "output_type": "stream",
          "text": [
            "label_encode [3.]\n"
          ]
        },
        {
          "name": "stderr",
          "output_type": "stream",
          "text": [
            "t:   7%|▋         | 242/3575 [06:05<3:42:43,  4.01s/it, now=None]"
          ]
        },
        {
          "name": "stdout",
          "output_type": "stream",
          "text": [
            "label_encode [3.]\n"
          ]
        },
        {
          "name": "stderr",
          "output_type": "stream",
          "text": [
            "t:   7%|▋         | 243/3575 [06:09<3:40:28,  3.97s/it, now=None]"
          ]
        },
        {
          "name": "stdout",
          "output_type": "stream",
          "text": [
            "label_encode [3.]\n"
          ]
        },
        {
          "name": "stderr",
          "output_type": "stream",
          "text": [
            "t:   7%|▋         | 244/3575 [06:13<3:37:00,  3.91s/it, now=None]"
          ]
        },
        {
          "name": "stdout",
          "output_type": "stream",
          "text": [
            "label_encode [3.]\n"
          ]
        },
        {
          "name": "stderr",
          "output_type": "stream",
          "text": [
            "t:   7%|▋         | 245/3575 [06:17<3:32:29,  3.83s/it, now=None]"
          ]
        },
        {
          "name": "stdout",
          "output_type": "stream",
          "text": [
            "label_encode [3.]\n"
          ]
        },
        {
          "name": "stderr",
          "output_type": "stream",
          "text": [
            "t:   7%|▋         | 246/3575 [06:20<3:30:09,  3.79s/it, now=None]"
          ]
        },
        {
          "name": "stdout",
          "output_type": "stream",
          "text": [
            "label_encode [3.]\n"
          ]
        },
        {
          "name": "stderr",
          "output_type": "stream",
          "text": [
            "t:   7%|▋         | 247/3575 [06:24<3:29:05,  3.77s/it, now=None]"
          ]
        },
        {
          "name": "stdout",
          "output_type": "stream",
          "text": [
            "label_encode [3.]\n"
          ]
        },
        {
          "name": "stderr",
          "output_type": "stream",
          "text": [
            "t:   7%|▋         | 248/3575 [06:28<3:27:41,  3.75s/it, now=None]"
          ]
        },
        {
          "name": "stdout",
          "output_type": "stream",
          "text": [
            "label_encode [3.]\n"
          ]
        },
        {
          "name": "stderr",
          "output_type": "stream",
          "text": [
            "t:   7%|▋         | 249/3575 [06:31<3:29:21,  3.78s/it, now=None]"
          ]
        },
        {
          "name": "stdout",
          "output_type": "stream",
          "text": [
            "label_encode [3.]\n"
          ]
        },
        {
          "name": "stderr",
          "output_type": "stream",
          "text": [
            "t:   7%|▋         | 250/3575 [06:35<3:28:28,  3.76s/it, now=None]"
          ]
        },
        {
          "name": "stdout",
          "output_type": "stream",
          "text": [
            "label_encode [3.]\n"
          ]
        },
        {
          "name": "stderr",
          "output_type": "stream",
          "text": [
            "t: 100%|██████████| 3575/3575 [12:38<00:00, 28.33it/s, now=None] WARNING:py.warnings:c:\\Users\\sinte\\anaconda3\\Lib\\site-packages\\moviepy\\video\\io\\ffmpeg_reader.py:123: UserWarning: Warning: in file C:\\Users\\sinte\\AppData\\Local\\Temp\\gradio\\db73a0aac07d9faa9a2227a5631c9c157684f395\\car_blur_test.mp4, 2764800 bytes wanted but 0 bytes read,at frame 3574/3575, at time 142.96/142.97 sec. Using the last valid frame instead.\n",
            "  warnings.warn(\"Warning: in file %s, \"%(self.filename)+\n",
            "\n",
            "                                                                \r"
          ]
        },
        {
          "name": "stdout",
          "output_type": "stream",
          "text": [
            "Moviepy - Done !\n",
            "Moviepy - video ready output_video.mp4\n",
            "Keyboard interruption in main thread... closing server.\n"
          ]
        }
      ],
      "source": [
        "import gradio as gr\n",
        "iface = gr.Interface(\n",
        "    fn=process_and_concat_video,\n",
        "    inputs=[\n",
        "        gr.Video(label=\"Upload Video\"),\n",
        "        gr.CheckboxGroup(choices=coco_labels[1:], label=\"Select Classes\"),\n",
        "        gr.Slider(label = \"blur intensity\",minimum = 3,maximum = 90, step = 3),\n",
        "        gr.Number(label=\"Start Time (seconds)\"),\n",
        "        gr.Number(label=\"End Time (seconds)\"),\n",
        "    ],\n",
        "    outputs= \"video\",\n",
        "    title = 'BlurVista 👓'\n",
        ")\n",
        "iface.launch(debug =  True)"
      ]
    },
    {
      "cell_type": "code",
      "execution_count": null,
      "metadata": {
        "id": "ghr4sJkmWy8E"
      },
      "outputs": [],
      "source": []
    }
  ],
  "metadata": {
    "accelerator": "GPU",
    "colab": {
      "gpuType": "T4",
      "provenance": []
    },
    "kernelspec": {
      "display_name": "Python 3",
      "name": "python3"
    },
    "language_info": {
      "codemirror_mode": {
        "name": "ipython",
        "version": 3
      },
      "file_extension": ".py",
      "mimetype": "text/x-python",
      "name": "python",
      "nbconvert_exporter": "python",
      "pygments_lexer": "ipython3",
      "version": "3.11.4"
    }
  },
  "nbformat": 4,
  "nbformat_minor": 0
}
